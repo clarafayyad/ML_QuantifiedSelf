{
 "cells": [
  {
   "cell_type": "code",
   "id": "initial_id",
   "metadata": {
    "collapsed": true,
    "ExecuteTime": {
     "end_time": "2025-06-15T14:34:13.426797Z",
     "start_time": "2025-06-15T14:34:13.301064Z"
    }
   },
   "source": [
    "import pandas as pd\n",
    "from sklearn.ensemble import RandomForestClassifier\n",
    "from sklearn.metrics import classification_report, confusion_matrix\n",
    "from sklearn.preprocessing import LabelEncoder\n",
    "from sklearn.model_selection import train_test_split\n",
    "import matplotlib.pyplot as plt\n"
   ],
   "outputs": [],
   "execution_count": 1
  },
  {
   "metadata": {
    "ExecuteTime": {
     "end_time": "2025-06-15T14:37:56.423906Z",
     "start_time": "2025-06-15T14:37:56.421169Z"
    }
   },
   "cell_type": "code",
   "source": [
    "def run_rf(df):\n",
    "    # Encode genre labels\n",
    "    le_genre = LabelEncoder()\n",
    "    df['genre_encoded'] = le_genre.fit_transform(df['genre'])\n",
    "    print(\"Train genres encoded:\\n\", set(df['genre_encoded'].values))\n",
    "    \n",
    "    # Split into train (Clara, Kenji) and test (Aimen)\n",
    "    train_df = df[df['participant'].isin(['aimen', 'kenji'])]\n",
    "    test_df = df[df['participant'] == 'clara']\n",
    "    \n",
    "    print(\"\\nTrain genres:\\n\", train_df['genre'].value_counts())\n",
    "    print(\"\\nTest genres:\\n\", test_df['genre'].value_counts())\n",
    "    \n",
    "    # Automatically select numeric feature columns (excluding timestamp, target, person)\n",
    "    excluded_cols = ['timestamp', 'genre', 'genre_encoded', 'participant']\n",
    "    feature_cols = [col for col in df.columns if col not in excluded_cols and pd.api.types.is_numeric_dtype(df[col])]\n",
    "    \n",
    "    # Normalize all feature columns per person\n",
    "    df[feature_cols] = df.groupby('participant')[feature_cols].transform(lambda x: (x - x.mean()) / x.std())\n",
    "    \n",
    "    X_train = train_df[feature_cols]\n",
    "    y_train = train_df['genre_encoded']\n",
    "    X_test = test_df[feature_cols]\n",
    "    y_test = test_df['genre_encoded']\n",
    "    \n",
    "    # Train classifier\n",
    "    clf = RandomForestClassifier(n_estimators=100, random_state=42)\n",
    "    clf.fit(X_train, y_train)\n",
    "    \n",
    "    # Predict and evaluate\n",
    "    y_pred = clf.predict(X_test)\n",
    "    print(\"\\nClassification Report:\\n\", classification_report(y_test, y_pred, target_names=le_genre.classes_, zero_division=0))\n",
    "    print(\"\\nConfusion Matrix:\\n\", confusion_matrix(y_test, y_pred))"
   ],
   "id": "73e2524d57515c42",
   "outputs": [],
   "execution_count": 16
  },
  {
   "metadata": {
    "ExecuteTime": {
     "end_time": "2025-06-15T14:37:57.309221Z",
     "start_time": "2025-06-15T14:37:56.954295Z"
    }
   },
   "cell_type": "code",
   "source": [
    "df = pd.read_csv('data_cleaning/data/imputed_data.csv')\n",
    "df.rename({'person': 'participant'}, axis='columns', inplace=True)\n",
    "run_rf(df)"
   ],
   "id": "882486e73af90d62",
   "outputs": [
    {
     "name": "stdout",
     "output_type": "stream",
     "text": [
      "Train genres encoded:\n",
      " {0, 1, 2}\n",
      "\n",
      "Train genres:\n",
      " genre\n",
      "horror         2140\n",
      "comedy         1621\n",
      "documentary    1479\n",
      "Name: count, dtype: int64\n",
      "\n",
      "Test genres:\n",
      " genre\n",
      "documentary    1560\n",
      "comedy         1340\n",
      "horror         1216\n",
      "Name: count, dtype: int64\n",
      "\n",
      "Classification Report:\n",
      "               precision    recall  f1-score   support\n",
      "\n",
      "      comedy       0.33      0.17      0.22      1340\n",
      " documentary       0.48      0.55      0.51      1560\n",
      "      horror       0.66      0.89      0.76      1216\n",
      "\n",
      "    accuracy                           0.53      4116\n",
      "   macro avg       0.49      0.54      0.50      4116\n",
      "weighted avg       0.48      0.53      0.49      4116\n",
      "\n",
      "\n",
      "Confusion Matrix:\n",
      " [[ 224  834  282]\n",
      " [ 417  862  281]\n",
      " [  37   98 1081]]\n"
     ]
    }
   ],
   "execution_count": 17
  },
  {
   "metadata": {
    "ExecuteTime": {
     "end_time": "2025-06-15T14:37:58.927438Z",
     "start_time": "2025-06-15T14:37:58.591754Z"
    }
   },
   "cell_type": "code",
   "source": "run_rf(pd.read_csv('feature_engineering/data_with_new_features_v2.csv'))",
   "id": "dc59fec5b0173d4b",
   "outputs": [
    {
     "name": "stdout",
     "output_type": "stream",
     "text": [
      "Train genres encoded:\n",
      " {0, 1, 2}\n",
      "\n",
      "Train genres:\n",
      " genre\n",
      "horror         2132\n",
      "comedy         1613\n",
      "documentary    1471\n",
      "Name: count, dtype: int64\n",
      "\n",
      "Test genres:\n",
      " genre\n",
      "documentary    1556\n",
      "comedy         1336\n",
      "horror         1212\n",
      "Name: count, dtype: int64\n",
      "\n",
      "Classification Report:\n",
      "               precision    recall  f1-score   support\n",
      "\n",
      "      comedy       1.00      1.00      1.00      1336\n",
      " documentary       0.00      0.00      0.00      1556\n",
      "      horror       0.44      1.00      0.61      1212\n",
      "\n",
      "    accuracy                           0.62      4104\n",
      "   macro avg       0.48      0.67      0.54      4104\n",
      "weighted avg       0.45      0.62      0.51      4104\n",
      "\n",
      "\n",
      "Confusion Matrix:\n",
      " [[1336    0    0]\n",
      " [   0    0 1556]\n",
      " [   0    0 1212]]\n"
     ]
    }
   ],
   "execution_count": 18
  },
  {
   "metadata": {
    "ExecuteTime": {
     "end_time": "2025-06-15T14:40:56.228612Z",
     "start_time": "2025-06-15T14:40:55.870444Z"
    }
   },
   "cell_type": "code",
   "source": "run_rf(pd.read_csv('feature_engineering/data_with_new_features_v3.csv'))",
   "id": "2cf2f6da26c01911",
   "outputs": [
    {
     "name": "stdout",
     "output_type": "stream",
     "text": [
      "Train genres encoded:\n",
      " {0, 1, 2}\n",
      "\n",
      "Train genres:\n",
      " genre\n",
      "horror         2132\n",
      "comedy         1613\n",
      "documentary    1471\n",
      "Name: count, dtype: int64\n",
      "\n",
      "Test genres:\n",
      " genre\n",
      "documentary    1556\n",
      "comedy         1336\n",
      "horror         1212\n",
      "Name: count, dtype: int64\n",
      "\n",
      "Classification Report:\n",
      "               precision    recall  f1-score   support\n",
      "\n",
      "      comedy       1.00      1.00      1.00      1336\n",
      " documentary       0.00      0.00      0.00      1556\n",
      "      horror       0.44      1.00      0.61      1212\n",
      "\n",
      "    accuracy                           0.62      4104\n",
      "   macro avg       0.48      0.67      0.54      4104\n",
      "weighted avg       0.45      0.62      0.51      4104\n",
      "\n",
      "\n",
      "Confusion Matrix:\n",
      " [[1336    0    0]\n",
      " [   0    0 1556]\n",
      " [   0    0 1212]]\n"
     ]
    }
   ],
   "execution_count": 20
  },
  {
   "metadata": {
    "ExecuteTime": {
     "end_time": "2025-06-15T14:34:14.629227Z",
     "start_time": "2025-06-15T14:34:14.627091Z"
    }
   },
   "cell_type": "code",
   "source": [
    "def run_rf_70_30(df):\n",
    "    # Encode genre labels\n",
    "    le_genre = LabelEncoder()\n",
    "    df['genre_encoded'] = le_genre.fit_transform(df['genre'])\n",
    "    \n",
    "    # Drop non-feature columns\n",
    "    feature_cols = [col for col in df.columns if col not in ['timestamp', 'genre', 'genre_encoded', 'participant']]\n",
    "    X = df[feature_cols]\n",
    "    X = X.select_dtypes(include='number')\n",
    "    y = df['genre_encoded']\n",
    "    \n",
    "    # Train-test split (70% train, 30% test, stratified by genre)\n",
    "    X_train, X_test, y_train, y_test = train_test_split(\n",
    "        X, y, test_size=0.3, stratify=y, random_state=42\n",
    "    )\n",
    "    \n",
    "    # Train classifier\n",
    "    clf = RandomForestClassifier(n_estimators=100, class_weight='balanced', random_state=42)\n",
    "    clf.fit(X_train, y_train)\n",
    "    \n",
    "    # Predictions and evaluation\n",
    "    y_pred = clf.predict(X_test)\n",
    "    print(\"Confusion Matrix:\\n\", confusion_matrix(y_test, y_pred))\n",
    "    print(\"\\nClassification Report:\\n\", classification_report(\n",
    "        y_test, y_pred, target_names=le_genre.classes_, zero_division=0))"
   ],
   "id": "b863332b3a5e4d9b",
   "outputs": [],
   "execution_count": 6
  },
  {
   "metadata": {
    "ExecuteTime": {
     "end_time": "2025-06-15T14:34:15.104429Z",
     "start_time": "2025-06-15T14:34:14.629687Z"
    }
   },
   "cell_type": "code",
   "source": [
    "df = pd.read_csv('data_cleaning/data/imputed_data.csv')\n",
    "df.rename({'person': 'participant'}, axis='columns', inplace=True)\n",
    "run_rf_70_30(df)"
   ],
   "id": "cc2a6047a7ec5d37",
   "outputs": [
    {
     "name": "stdout",
     "output_type": "stream",
     "text": [
      "Confusion Matrix:\n",
      " [[856  10  22]\n",
      " [  2 898  12]\n",
      " [ 25  22 960]]\n",
      "\n",
      "Classification Report:\n",
      "               precision    recall  f1-score   support\n",
      "\n",
      "      comedy       0.97      0.96      0.97       888\n",
      " documentary       0.97      0.98      0.98       912\n",
      "      horror       0.97      0.95      0.96      1007\n",
      "\n",
      "    accuracy                           0.97      2807\n",
      "   macro avg       0.97      0.97      0.97      2807\n",
      "weighted avg       0.97      0.97      0.97      2807\n",
      "\n"
     ]
    }
   ],
   "execution_count": 7
  },
  {
   "metadata": {
    "ExecuteTime": {
     "end_time": "2025-06-15T14:34:15.538743Z",
     "start_time": "2025-06-15T14:34:15.105264Z"
    }
   },
   "cell_type": "code",
   "source": "run_rf_70_30(pd.read_csv('feature_engineering/data_with_new_features_v2.csv'))",
   "id": "2b2a95ef8d50f545",
   "outputs": [
    {
     "name": "stdout",
     "output_type": "stream",
     "text": [
      "Confusion Matrix:\n",
      " [[ 885    0    0]\n",
      " [   0  908    0]\n",
      " [   0    0 1003]]\n",
      "\n",
      "Classification Report:\n",
      "               precision    recall  f1-score   support\n",
      "\n",
      "      comedy       1.00      1.00      1.00       885\n",
      " documentary       1.00      1.00      1.00       908\n",
      "      horror       1.00      1.00      1.00      1003\n",
      "\n",
      "    accuracy                           1.00      2796\n",
      "   macro avg       1.00      1.00      1.00      2796\n",
      "weighted avg       1.00      1.00      1.00      2796\n",
      "\n"
     ]
    }
   ],
   "execution_count": 8
  },
  {
   "metadata": {
    "ExecuteTime": {
     "end_time": "2025-06-15T14:34:16.035582Z",
     "start_time": "2025-06-15T14:34:16.034450Z"
    }
   },
   "cell_type": "code",
   "source": "",
   "id": "aa482b03f558dcad",
   "outputs": [],
   "execution_count": 9
  }
 ],
 "metadata": {
  "kernelspec": {
   "display_name": "Python 3",
   "language": "python",
   "name": "python3"
  },
  "language_info": {
   "codemirror_mode": {
    "name": "ipython",
    "version": 2
   },
   "file_extension": ".py",
   "mimetype": "text/x-python",
   "name": "python",
   "nbconvert_exporter": "python",
   "pygments_lexer": "ipython2",
   "version": "2.7.6"
  }
 },
 "nbformat": 4,
 "nbformat_minor": 5
}
