{
 "cells": [
  {
   "cell_type": "code",
   "id": "initial_id",
   "metadata": {
    "collapsed": true,
    "ExecuteTime": {
     "end_time": "2025-06-06T10:48:39.388991Z",
     "start_time": "2025-06-06T10:48:39.387163Z"
    }
   },
   "source": [
    "import pandas as pd\n",
    "\n",
    "import warnings\n",
    "warnings.filterwarnings('ignore')"
   ],
   "outputs": [],
   "execution_count": 17
  },
  {
   "metadata": {
    "ExecuteTime": {
     "end_time": "2025-06-06T10:32:03.160454Z",
     "start_time": "2025-06-06T10:32:03.080939Z"
    }
   },
   "cell_type": "code",
   "source": [
    "# load apple watch data\n",
    "comedy_aw = pd.read_csv('generated_dfs/comedy_aw.csv')\n",
    "documentary_aw = pd.read_csv('generated_dfs/documentary_aw.csv')\n",
    "horror_aw = pd.read_csv('generated_dfs/horror_aw.csv')\n",
    "\n",
    "# load tracked motion data\n",
    "comedy_tm = pd.read_csv('generated_dfs/tracked_motion_comedy.csv')\n",
    "documentary_tm = pd.read_csv('generated_dfs/tracked_motion_documentary.csv')\n",
    "horror_tm = pd.read_csv('generated_dfs/tracked_motion_horror.csv')"
   ],
   "id": "526fd028c0216db7",
   "outputs": [],
   "execution_count": 2
  },
  {
   "metadata": {
    "ExecuteTime": {
     "end_time": "2025-06-06T10:48:21.064411Z",
     "start_time": "2025-06-06T10:48:21.060377Z"
    }
   },
   "cell_type": "code",
   "source": [
    "def merge_dataframes(aw_df, tm_df):\n",
    "    # Convert to datetime\n",
    "    aw_df['time'] = pd.to_datetime(aw_df['time']).dt.tz_localize(None)\n",
    "    tm_df['timestamp'] = pd.to_datetime(tm_df['timestamp']).dt.tz_localize(None)\n",
    "    \n",
    "    # Sort both DataFrames (required for merge_asof)\n",
    "    comedy_aw = aw_df.sort_values('time')\n",
    "    comedy_tm = tm_df.sort_values('timestamp')\n",
    "    \n",
    "    # Merge on nearest time\n",
    "    return pd.merge_asof(comedy_tm, comedy_aw, left_on='timestamp', right_on='time', direction='nearest')\n",
    "\n",
    "def aggregate_data(df):\n",
    "    df['timestamp'] = pd.to_datetime(df['timestamp'])\n",
    "    \n",
    "    # Floor timestamps to the nearest second\n",
    "    df['time_rounded'] = df['timestamp'].dt.floor('1S')\n",
    "    \n",
    "    # Group by the rounded time and average\n",
    "    return df.groupby('time_rounded').mean().reset_index()"
   ],
   "id": "2717b72a92e5ba32",
   "outputs": [],
   "execution_count": 15
  },
  {
   "metadata": {
    "ExecuteTime": {
     "end_time": "2025-06-06T10:48:42.600831Z",
     "start_time": "2025-06-06T10:48:42.549251Z"
    }
   },
   "cell_type": "code",
   "source": [
    "comedy = aggregate_data(merge_dataframes(comedy_aw, comedy_tm))\n",
    "documentary = aggregate_data(merge_dataframes(documentary_aw, documentary_tm))\n",
    "horror = aggregate_data(merge_dataframes(horror_aw, horror_tm))"
   ],
   "id": "2648b88dfbf1b000",
   "outputs": [],
   "execution_count": 18
  },
  {
   "metadata": {
    "ExecuteTime": {
     "end_time": "2025-06-06T10:49:33.139622Z",
     "start_time": "2025-06-06T10:49:33.134765Z"
    }
   },
   "cell_type": "code",
   "source": "comedy['heart_rate']",
   "id": "1214a38a2ce4a060",
   "outputs": [
    {
     "data": {
      "text/plain": [
       "0       62.0\n",
       "1       62.0\n",
       "2       62.0\n",
       "3       62.0\n",
       "4       62.0\n",
       "        ... \n",
       "1882    63.0\n",
       "1883    63.0\n",
       "1884    63.0\n",
       "1885    63.0\n",
       "1886    63.0\n",
       "Name: heart_rate, Length: 1887, dtype: float64"
      ]
     },
     "execution_count": 20,
     "metadata": {},
     "output_type": "execute_result"
    }
   ],
   "execution_count": 20
  },
  {
   "metadata": {
    "ExecuteTime": {
     "end_time": "2025-06-06T10:52:24.075795Z",
     "start_time": "2025-06-06T10:52:24.070452Z"
    }
   },
   "cell_type": "code",
   "source": [
    "# Add genre column\n",
    "comedy['genre'] = 'comedy'\n",
    "documentary['genre'] = 'documentary'\n",
    "horror['genre'] = 'horror'\n",
    "\n",
    "# Concatenate all\n",
    "df_all = pd.concat([comedy, documentary, horror], ignore_index=True)"
   ],
   "id": "c78ddbccdb07961b",
   "outputs": [],
   "execution_count": 21
  },
  {
   "metadata": {
    "ExecuteTime": {
     "end_time": "2025-06-06T10:52:41.763703Z",
     "start_time": "2025-06-06T10:52:41.715596Z"
    }
   },
   "cell_type": "code",
   "source": "df_all.to_csv('all_genres.csv', index=False)",
   "id": "a815fd15a4a63772",
   "outputs": [],
   "execution_count": 23
  },
  {
   "metadata": {},
   "cell_type": "code",
   "outputs": [],
   "execution_count": null,
   "source": "",
   "id": "8e8c12d046d7263f"
  }
 ],
 "metadata": {
  "kernelspec": {
   "display_name": "Python 3",
   "language": "python",
   "name": "python3"
  },
  "language_info": {
   "codemirror_mode": {
    "name": "ipython",
    "version": 2
   },
   "file_extension": ".py",
   "mimetype": "text/x-python",
   "name": "python",
   "nbconvert_exporter": "python",
   "pygments_lexer": "ipython2",
   "version": "2.7.6"
  }
 },
 "nbformat": 4,
 "nbformat_minor": 5
}
