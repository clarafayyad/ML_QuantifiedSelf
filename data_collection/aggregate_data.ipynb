{
 "cells": [
  {
   "cell_type": "code",
   "id": "initial_id",
   "metadata": {
    "collapsed": true,
    "ExecuteTime": {
     "end_time": "2025-06-06T15:31:38.207972Z",
     "start_time": "2025-06-06T15:31:38.205173Z"
    }
   },
   "source": [
    "import pandas as pd\n",
    "\n",
    "import warnings\n",
    "warnings.filterwarnings('ignore')"
   ],
   "outputs": [],
   "execution_count": 27
  },
  {
   "metadata": {
    "ExecuteTime": {
     "end_time": "2025-06-06T15:31:38.304378Z",
     "start_time": "2025-06-06T15:31:38.210779Z"
    }
   },
   "cell_type": "code",
   "source": [
    "# load apple watch data\n",
    "comedy_aw = pd.read_csv('generated_dfs/comedy_aw.csv')\n",
    "documentary_aw = pd.read_csv('generated_dfs/documentary_aw.csv')\n",
    "horror_aw = pd.read_csv('generated_dfs/horror_aw.csv')\n",
    "\n",
    "# load tracked motion data\n",
    "comedy_tm = pd.read_csv('generated_dfs/tracked_motion_comedy.csv')\n",
    "documentary_tm = pd.read_csv('generated_dfs/tracked_motion_documentary.csv')\n",
    "horror_tm = pd.read_csv('generated_dfs/tracked_motion_horror.csv')\n",
    "\n",
    "# load pupil size data\n",
    "comedy_ps = pd.read_csv('generated_dfs/pupil_size_comedy.csv')\n",
    "documentary_ps = pd.read_csv('generated_dfs/pupil_size_documentary.csv')\n",
    "horror_ps = pd.read_csv('generated_dfs/pupil_size_horror.csv')"
   ],
   "id": "526fd028c0216db7",
   "outputs": [],
   "execution_count": 28
  },
  {
   "metadata": {
    "ExecuteTime": {
     "end_time": "2025-06-06T15:31:38.307437Z",
     "start_time": "2025-06-06T15:31:38.305318Z"
    }
   },
   "cell_type": "code",
   "source": [
    "def merge_dataframes(aw_df, tm_df, ps_df):\n",
    "    # Convert to datetime\n",
    "    aw_df['time'] = pd.to_datetime(aw_df['time']).dt.tz_localize(None)\n",
    "    tm_df['timestamp'] = pd.to_datetime(tm_df['timestamp']).dt.tz_localize(None)\n",
    "    ps_df['timestamp'] = pd.to_datetime(ps_df['timestamp']).dt.tz_localize(None)\n",
    "    \n",
    "    # Sort both DataFrames (required for merge_asof)\n",
    "    aw = aw_df.sort_values('time')\n",
    "    tm = tm_df.sort_values('timestamp')\n",
    "    ps = ps_df.sort_values('timestamp')\n",
    "    \n",
    "    # Merge on nearest time\n",
    "    merged = pd.merge_asof(tm, aw, left_on='timestamp', right_on='time', direction='nearest')\n",
    "    return pd.merge_asof(merged, ps, left_on='timestamp', right_on='timestamp', direction='nearest')\n",
    "    \n",
    "\n",
    "def aggregate_data(df):\n",
    "    df['timestamp'] = pd.to_datetime(df['timestamp'])\n",
    "    \n",
    "    # Floor timestamps to the nearest second\n",
    "    df['time_rounded'] = df['timestamp'].dt.floor('1S')\n",
    "    \n",
    "    # Group by the rounded time and average\n",
    "    return df.groupby('time_rounded').mean().reset_index()"
   ],
   "id": "2717b72a92e5ba32",
   "outputs": [],
   "execution_count": 29
  },
  {
   "metadata": {
    "ExecuteTime": {
     "end_time": "2025-06-06T15:34:03.513084Z",
     "start_time": "2025-06-06T15:34:03.451169Z"
    }
   },
   "cell_type": "code",
   "source": [
    "comedy = merge_dataframes(comedy_aw, comedy_tm, comedy_ps)\n",
    "documentary = merge_dataframes(documentary_aw, documentary_tm, documentary_ps)\n",
    "horror = merge_dataframes(horror_aw, horror_tm, horror_ps)"
   ],
   "id": "2648b88dfbf1b000",
   "outputs": [],
   "execution_count": 33
  },
  {
   "metadata": {
    "ExecuteTime": {
     "end_time": "2025-06-06T15:34:05.532151Z",
     "start_time": "2025-06-06T15:34:05.517457Z"
    }
   },
   "cell_type": "code",
   "source": [
    "# Add genre column\n",
    "comedy['genre'] = 'comedy'\n",
    "documentary['genre'] = 'documentary'\n",
    "horror['genre'] = 'horror'\n",
    "\n",
    "# Concatenate all\n",
    "df_all = pd.concat([comedy, documentary, horror], ignore_index=True)"
   ],
   "id": "c78ddbccdb07961b",
   "outputs": [],
   "execution_count": 34
  },
  {
   "metadata": {
    "ExecuteTime": {
     "end_time": "2025-06-06T15:34:10.014951Z",
     "start_time": "2025-06-06T15:34:08.932631Z"
    }
   },
   "cell_type": "code",
   "source": "df_all.to_csv('all_genres.csv', index=False)",
   "id": "a815fd15a4a63772",
   "outputs": [],
   "execution_count": 35
  },
  {
   "metadata": {},
   "cell_type": "code",
   "outputs": [],
   "execution_count": null,
   "source": "",
   "id": "8e8c12d046d7263f"
  }
 ],
 "metadata": {
  "kernelspec": {
   "display_name": "Python 3",
   "language": "python",
   "name": "python3"
  },
  "language_info": {
   "codemirror_mode": {
    "name": "ipython",
    "version": 2
   },
   "file_extension": ".py",
   "mimetype": "text/x-python",
   "name": "python",
   "nbconvert_exporter": "python",
   "pygments_lexer": "ipython2",
   "version": "2.7.6"
  }
 },
 "nbformat": 4,
 "nbformat_minor": 5
}
