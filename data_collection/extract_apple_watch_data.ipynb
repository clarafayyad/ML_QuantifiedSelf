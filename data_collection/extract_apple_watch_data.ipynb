{
 "cells": [
  {
   "metadata": {
    "ExecuteTime": {
     "end_time": "2025-06-06T09:58:30.048801Z",
     "start_time": "2025-06-06T09:58:28.281355Z"
    }
   },
   "cell_type": "code",
   "source": [
    "import xml.etree.ElementTree as ET\n",
    "import pandas as pd\n",
    "import numpy as np\n",
    "from datetime import datetime\n",
    "\n",
    "# Load and parse the XML file\n",
    "tree = ET.parse('kenji_apple_watch.xml')\n",
    "root = tree.getroot()"
   ],
   "id": "9eefd74ae34d73ae",
   "outputs": [],
   "execution_count": 32
  },
  {
   "metadata": {
    "ExecuteTime": {
     "end_time": "2025-06-06T09:58:30.083615Z",
     "start_time": "2025-06-06T09:58:30.049623Z"
    }
   },
   "cell_type": "code",
   "source": [
    "\n",
    "# Step 1: Extract all workouts\n",
    "workouts = []\n",
    "for workout in root.findall('Workout'):\n",
    "    workout_type = workout.attrib.get('workoutActivityType')\n",
    "    start_date = workout.attrib.get('startDate')\n",
    "    end_date = workout.attrib.get('endDate')\n",
    "    duration = workout.attrib.get('duration')\n",
    "    total_energy = workout.attrib.get('totalEnergyBurned')\n",
    "\n",
    "    workouts.append({\n",
    "        'type': workout_type,\n",
    "        'start': pd.to_datetime(start_date),\n",
    "        'end': pd.to_datetime(end_date),\n",
    "        'duration_min': float(duration) / 60 if duration else None,\n",
    "        'calories': float(total_energy) if total_energy else None\n",
    "    })\n",
    "\n",
    "# Turn workouts into a DataFrame\n",
    "df_workouts = pd.DataFrame(workouts)\n",
    "print(\"Available workouts:\")\n",
    "print(df_workouts)"
   ],
   "id": "9d6f95a98d196254",
   "outputs": [
    {
     "name": "stdout",
     "output_type": "stream",
     "text": [
      "Available workouts:\n",
      "                                                type  \\\n",
      "0                       HKWorkoutActivityTypeWalking   \n",
      "1                       HKWorkoutActivityTypeWalking   \n",
      "2   HKWorkoutActivityTypeTraditionalStrengthTraining   \n",
      "3   HKWorkoutActivityTypeTraditionalStrengthTraining   \n",
      "4   HKWorkoutActivityTypeTraditionalStrengthTraining   \n",
      "5                       HKWorkoutActivityTypeWalking   \n",
      "6                       HKWorkoutActivityTypeCycling   \n",
      "7                       HKWorkoutActivityTypeCycling   \n",
      "8                       HKWorkoutActivityTypeRunning   \n",
      "9                       HKWorkoutActivityTypeRunning   \n",
      "10                      HKWorkoutActivityTypeRunning   \n",
      "11                      HKWorkoutActivityTypeRunning   \n",
      "12                      HKWorkoutActivityTypeRunning   \n",
      "13                      HKWorkoutActivityTypeRunning   \n",
      "14                      HKWorkoutActivityTypeRunning   \n",
      "15                      HKWorkoutActivityTypeRunning   \n",
      "16                      HKWorkoutActivityTypeRunning   \n",
      "17                      HKWorkoutActivityTypeRunning   \n",
      "18                      HKWorkoutActivityTypeRunning   \n",
      "19                      HKWorkoutActivityTypeRunning   \n",
      "20                      HKWorkoutActivityTypeRunning   \n",
      "21                      HKWorkoutActivityTypeRunning   \n",
      "22                      HKWorkoutActivityTypeRunning   \n",
      "23                      HKWorkoutActivityTypeRunning   \n",
      "24                      HKWorkoutActivityTypeRunning   \n",
      "25                      HKWorkoutActivityTypeRunning   \n",
      "26                      HKWorkoutActivityTypeRunning   \n",
      "27                      HKWorkoutActivityTypeRunning   \n",
      "28                      HKWorkoutActivityTypeRunning   \n",
      "29                      HKWorkoutActivityTypeRunning   \n",
      "30                      HKWorkoutActivityTypeRunning   \n",
      "31                      HKWorkoutActivityTypeRunning   \n",
      "32                      HKWorkoutActivityTypeRunning   \n",
      "33                      HKWorkoutActivityTypeRunning   \n",
      "34                      HKWorkoutActivityTypeRunning   \n",
      "35                      HKWorkoutActivityTypeRunning   \n",
      "36                      HKWorkoutActivityTypeRunning   \n",
      "37                      HKWorkoutActivityTypeRunning   \n",
      "38                      HKWorkoutActivityTypeRunning   \n",
      "39                      HKWorkoutActivityTypeRunning   \n",
      "40                      HKWorkoutActivityTypeRunning   \n",
      "41                      HKWorkoutActivityTypeRunning   \n",
      "42                      HKWorkoutActivityTypeRunning   \n",
      "43                      HKWorkoutActivityTypeRunning   \n",
      "44                      HKWorkoutActivityTypeRunning   \n",
      "45                        HKWorkoutActivityTypeOther   \n",
      "46                        HKWorkoutActivityTypeOther   \n",
      "47                        HKWorkoutActivityTypeOther   \n",
      "48                        HKWorkoutActivityTypeOther   \n",
      "49                        HKWorkoutActivityTypeOther   \n",
      "\n",
      "                       start                       end  duration_min calories  \n",
      "0  2023-12-25 16:25:58+02:00 2023-12-25 17:48:04+02:00      1.368319     None  \n",
      "1  2023-12-25 17:48:07+02:00 2023-12-25 18:07:25+02:00      0.321722     None  \n",
      "2  2023-12-26 16:09:59+02:00 2023-12-26 16:18:41+02:00      0.145035     None  \n",
      "3  2023-12-26 16:19:57+02:00 2023-12-26 17:02:17+02:00      0.705549     None  \n",
      "4  2023-12-27 15:50:45+02:00 2023-12-27 17:25:32+02:00      1.579677     None  \n",
      "5  2023-12-29 16:06:07+02:00 2023-12-29 16:19:47+02:00      0.227720     None  \n",
      "6  2023-12-29 17:14:51+02:00 2023-12-29 17:24:09+02:00      0.154861     None  \n",
      "7  2023-12-29 17:48:12+02:00 2023-12-29 17:54:27+02:00      0.104239     None  \n",
      "8  2024-02-08 21:17:54+02:00 2024-02-08 21:37:47+02:00      0.331389     None  \n",
      "9  2024-02-08 21:16:37+02:00 2024-02-08 21:38:27+02:00      0.363936     None  \n",
      "10 2024-02-16 19:41:00+02:00 2024-02-16 20:09:55+02:00      0.481944     None  \n",
      "11 2024-02-19 13:26:58+02:00 2024-02-19 13:51:30+02:00      0.408889     None  \n",
      "12 2024-02-24 19:24:09+02:00 2024-02-24 19:58:10+02:00      0.566944     None  \n",
      "13 2024-03-02 19:16:50+02:00 2024-03-02 19:46:55+02:00      0.501389     None  \n",
      "14 2024-03-04 13:35:35+02:00 2024-03-04 14:00:44+02:00      0.419167     None  \n",
      "15 2024-03-27 20:40:31+02:00 2024-03-27 21:35:03+02:00      0.908889     None  \n",
      "16 2024-03-30 19:14:02+02:00 2024-03-30 19:42:52+02:00      0.480556     None  \n",
      "17 2024-04-01 18:04:46+02:00 2024-04-01 18:36:44+02:00      0.532778     None  \n",
      "18 2024-04-09 18:15:42+02:00 2024-04-10 16:15:50+02:00     22.002222     None  \n",
      "19 2024-04-11 18:36:33+02:00 2024-04-11 19:31:28+02:00      0.915278     None  \n",
      "20 2024-08-21 10:43:28+02:00 2024-08-21 11:14:16+02:00      0.513333     None  \n",
      "21 2024-09-02 12:35:33+02:00 2024-09-02 13:50:59+02:00      1.257222     None  \n",
      "22 2024-09-05 18:01:38+02:00 2024-09-05 18:31:38+02:00      0.500000     None  \n",
      "23 2024-09-08 19:05:12+02:00 2024-09-08 19:33:44+02:00      0.475556     None  \n",
      "24 2024-09-10 18:39:31+02:00 2024-09-10 19:11:03+02:00      0.525556     None  \n",
      "25 2024-09-12 18:25:55+02:00 2024-09-12 19:34:48+02:00      1.148056     None  \n",
      "26 2024-09-17 16:59:50+02:00 2024-09-17 17:27:56+02:00      0.468333     None  \n",
      "27 2024-09-29 15:48:35+02:00 2024-09-29 16:17:19+02:00      0.478889     None  \n",
      "28 2024-10-01 17:42:56+02:00 2024-10-01 18:11:18+02:00      0.472778     None  \n",
      "29 2024-10-05 15:31:59+02:00 2024-10-05 15:59:41+02:00      0.461667     None  \n",
      "30 2024-10-12 18:35:10+02:00 2024-10-12 19:00:43+02:00      0.425833     None  \n",
      "31 2024-10-15 18:58:36+02:00 2024-10-15 19:24:35+02:00      0.433056     None  \n",
      "32 2024-10-18 18:29:03+02:00 2024-10-18 18:45:59+02:00      0.282222     None  \n",
      "33 2024-10-21 18:40:18+02:00 2024-10-21 19:17:11+02:00      0.614722     None  \n",
      "34 2024-10-31 19:46:54+02:00 2024-10-31 20:14:26+02:00      0.458889     None  \n",
      "35 2024-11-11 19:45:35+02:00 2024-11-11 20:13:45+02:00      0.469444     None  \n",
      "36 2024-11-15 18:20:34+02:00 2024-11-15 18:47:28+02:00      0.448333     None  \n",
      "37 2024-11-25 19:37:54+02:00 2024-11-25 20:04:39+02:00      0.445833     None  \n",
      "38 2024-12-09 20:15:24+02:00 2024-12-09 20:32:03+02:00      0.277500     None  \n",
      "39 2025-03-22 19:39:26+02:00 2025-03-22 19:59:38+02:00      0.336667     None  \n",
      "40 2025-04-20 17:58:27+02:00 2025-04-20 18:27:24+02:00      0.482500     None  \n",
      "41 2025-05-16 17:46:35+02:00 2025-05-16 18:17:15+02:00      0.511111     None  \n",
      "42 2025-05-18 20:54:28+02:00 2025-05-18 21:22:06+02:00      0.460556     None  \n",
      "43 2025-05-24 19:05:27+02:00 2025-05-24 19:34:03+02:00      0.476667     None  \n",
      "44 2025-05-30 17:07:41+02:00 2025-05-30 18:05:21+02:00      0.961111     None  \n",
      "45 2025-06-04 16:30:38+02:00 2025-06-04 16:40:59+02:00      0.172500     None  \n",
      "46 2025-06-05 15:47:34+02:00 2025-06-05 16:20:34+02:00      0.550000     None  \n",
      "47 2025-06-05 16:25:55+02:00 2025-06-05 16:56:42+02:00      0.513056     None  \n",
      "48 2025-06-05 17:13:30+02:00 2025-06-05 17:44:25+02:00      0.515278     None  \n",
      "49 2025-06-05 17:58:54+02:00 2025-06-05 18:30:13+02:00      0.521944     None  \n"
     ]
    }
   ],
   "execution_count": 33
  },
  {
   "metadata": {
    "ExecuteTime": {
     "end_time": "2025-06-06T09:58:30.085712Z",
     "start_time": "2025-06-06T09:58:30.084194Z"
    }
   },
   "cell_type": "code",
   "source": [
    "comedy_workout = df_workouts.iloc[47]\n",
    "documentary_workout = df_workouts.iloc[48]\n",
    "horror_workout = df_workouts.iloc[49]"
   ],
   "id": "3caae8c16f92ba0d",
   "outputs": [],
   "execution_count": 34
  },
  {
   "metadata": {
    "ExecuteTime": {
     "end_time": "2025-06-06T09:58:30.536184Z",
     "start_time": "2025-06-06T09:58:30.086644Z"
    }
   },
   "cell_type": "code",
   "source": [
    "record_list = [x.attrib for x in root.iter('Record')]\n",
    "record_data = pd.DataFrame(record_list)\n",
    "record_data.type.unique()"
   ],
   "id": "764bfc2d880d2cd3",
   "outputs": [
    {
     "data": {
      "text/plain": [
       "array(['HKQuantityTypeIdentifierHeight',\n",
       "       'HKQuantityTypeIdentifierBodyMass',\n",
       "       'HKQuantityTypeIdentifierHeartRate',\n",
       "       'HKQuantityTypeIdentifierRespiratoryRate',\n",
       "       'HKQuantityTypeIdentifierStepCount',\n",
       "       'HKQuantityTypeIdentifierDistanceWalkingRunning',\n",
       "       'HKQuantityTypeIdentifierBasalEnergyBurned',\n",
       "       'HKQuantityTypeIdentifierActiveEnergyBurned',\n",
       "       'HKQuantityTypeIdentifierFlightsClimbed',\n",
       "       'HKQuantityTypeIdentifierDietaryFatTotal',\n",
       "       'HKQuantityTypeIdentifierDietaryFatPolyunsaturated',\n",
       "       'HKQuantityTypeIdentifierDietaryFatMonounsaturated',\n",
       "       'HKQuantityTypeIdentifierDietaryFatSaturated',\n",
       "       'HKQuantityTypeIdentifierDietaryCholesterol',\n",
       "       'HKQuantityTypeIdentifierDietarySodium',\n",
       "       'HKQuantityTypeIdentifierDietaryCarbohydrates',\n",
       "       'HKQuantityTypeIdentifierDietaryFiber',\n",
       "       'HKQuantityTypeIdentifierDietarySugar',\n",
       "       'HKQuantityTypeIdentifierDietaryEnergyConsumed',\n",
       "       'HKQuantityTypeIdentifierDietaryProtein',\n",
       "       'HKQuantityTypeIdentifierDietaryVitaminC',\n",
       "       'HKQuantityTypeIdentifierDietaryCalcium',\n",
       "       'HKQuantityTypeIdentifierDietaryIron',\n",
       "       'HKQuantityTypeIdentifierDietaryPotassium',\n",
       "       'HKQuantityTypeIdentifierAppleExerciseTime',\n",
       "       'HKQuantityTypeIdentifierDistanceCycling',\n",
       "       'HKQuantityTypeIdentifierRestingHeartRate',\n",
       "       'HKQuantityTypeIdentifierVO2Max',\n",
       "       'HKQuantityTypeIdentifierWalkingHeartRateAverage',\n",
       "       'HKQuantityTypeIdentifierEnvironmentalAudioExposure',\n",
       "       'HKQuantityTypeIdentifierHeadphoneAudioExposure',\n",
       "       'HKQuantityTypeIdentifierWalkingDoubleSupportPercentage',\n",
       "       'HKQuantityTypeIdentifierAppleStandTime',\n",
       "       'HKQuantityTypeIdentifierWalkingSpeed',\n",
       "       'HKQuantityTypeIdentifierWalkingStepLength',\n",
       "       'HKQuantityTypeIdentifierWalkingAsymmetryPercentage',\n",
       "       'HKQuantityTypeIdentifierStairAscentSpeed',\n",
       "       'HKQuantityTypeIdentifierStairDescentSpeed',\n",
       "       'HKDataTypeSleepDurationGoal',\n",
       "       'HKQuantityTypeIdentifierAppleWalkingSteadiness',\n",
       "       'HKQuantityTypeIdentifierRunningStrideLength',\n",
       "       'HKQuantityTypeIdentifierRunningVerticalOscillation',\n",
       "       'HKQuantityTypeIdentifierRunningGroundContactTime',\n",
       "       'HKQuantityTypeIdentifierRunningPower',\n",
       "       'HKQuantityTypeIdentifierEnvironmentalSoundReduction',\n",
       "       'HKQuantityTypeIdentifierRunningSpeed',\n",
       "       'HKQuantityTypeIdentifierPhysicalEffort',\n",
       "       'HKCategoryTypeIdentifierSleepAnalysis',\n",
       "       'HKCategoryTypeIdentifierAppleStandHour',\n",
       "       'HKCategoryTypeIdentifierAudioExposureEvent',\n",
       "       'HKCategoryTypeIdentifierHeadphoneAudioExposureEvent',\n",
       "       'HKQuantityTypeIdentifierHeartRateVariabilitySDNN'], dtype=object)"
      ]
     },
     "execution_count": 35,
     "metadata": {},
     "output_type": "execute_result"
    }
   ],
   "execution_count": 35
  },
  {
   "metadata": {
    "ExecuteTime": {
     "end_time": "2025-06-06T09:58:32.865810Z",
     "start_time": "2025-06-06T09:58:32.860792Z"
    }
   },
   "cell_type": "code",
   "source": [
    "def extract_health_data(start, end):\n",
    "    target_types = {\n",
    "        'HKQuantityTypeIdentifierHeartRate': 'heart_rate',\n",
    "        'HKQuantityTypeIdentifierRespiratoryRate': 'respiratory_rate',\n",
    "        'HKQuantityTypeIdentifierBasalEnergyBurned': 'basal_energy_burned',\n",
    "        'HKQuantityTypeIdentifierActiveEnergyBurned': 'active_energy_burned',\n",
    "        'HKQuantityTypeIdentifierVO2Max': 'vo2_max',\n",
    "        'HKQuantityTypeIdentifierEnvironmentalAudioExposure': 'env_audio_exposure',\n",
    "        'HKQuantityTypeIdentifierHeadphoneAudioExposure': 'headphone_audio_exposure',\n",
    "        'HKQuantityTypeIdentifierPhysicalEffort': 'physical_effort',\n",
    "        'HKCategoryTypeIdentifierAudioExposureEvent': 'audio_exposure_event',\n",
    "        'HKQuantityTypeIdentifierHeartRateVariabilitySDNN': 'hrv_sdnn'\n",
    "    }\n",
    "\n",
    "    records = []\n",
    "\n",
    "    for record in root.findall('Record'):\n",
    "        record_type = record.attrib.get('type')\n",
    "        if record_type in target_types:\n",
    "            time = pd.to_datetime(record.attrib.get('startDate'))\n",
    "\n",
    "            value_raw = record.attrib.get('value')\n",
    "            try:\n",
    "                value = float(value_raw)\n",
    "            except (TypeError, ValueError):\n",
    "                value = np.nan  # Use NaN for non-numeric values\n",
    "\n",
    "            records.append({\n",
    "                'time': time,\n",
    "                'type': target_types[record_type],\n",
    "                'value': value\n",
    "            })\n",
    "\n",
    "    df = pd.DataFrame(records)\n",
    "\n",
    "    # Filter by time\n",
    "    df = df[(df['time'] >= start) & (df['time'] <= end)]\n",
    "\n",
    "    # Pivot: one column per type\n",
    "    df_pivoted = df.pivot_table(index='time', columns='type', values='value', aggfunc='mean').reset_index()\n",
    "\n",
    "    return df_pivoted\n"
   ],
   "id": "a9c4b0a6ea550053",
   "outputs": [],
   "execution_count": 36
  },
  {
   "metadata": {
    "ExecuteTime": {
     "end_time": "2025-06-06T09:59:35.373387Z",
     "start_time": "2025-06-06T09:58:36.482319Z"
    }
   },
   "cell_type": "code",
   "source": [
    "comedy_data = extract_health_data(comedy_workout['start'], comedy_workout['end'])\n",
    "documentary_data = extract_health_data(documentary_workout['start'], documentary_workout['end'])\n",
    "horror_data = extract_health_data(horror_workout['start'], horror_workout['end'])"
   ],
   "id": "73ac96ebba3b484c",
   "outputs": [],
   "execution_count": 37
  },
  {
   "metadata": {
    "ExecuteTime": {
     "end_time": "2025-06-06T09:59:39.576935Z",
     "start_time": "2025-06-06T09:59:39.573941Z"
    }
   },
   "cell_type": "code",
   "source": [
    "print(len(comedy_data))\n",
    "print(len(documentary_data))\n",
    "print(len(horror_data))"
   ],
   "id": "f7c1393020cbb413",
   "outputs": [
    {
     "name": "stdout",
     "output_type": "stream",
     "text": [
      "961\n",
      "963\n",
      "965\n"
     ]
    }
   ],
   "execution_count": 38
  },
  {
   "metadata": {
    "ExecuteTime": {
     "end_time": "2025-06-06T10:01:24.274245Z",
     "start_time": "2025-06-06T10:01:24.272354Z"
    }
   },
   "cell_type": "code",
   "source": [
    "print(comedy_data.columns)\n",
    "print(documentary_data.columns)\n",
    "print(horror_data.columns)"
   ],
   "id": "1cebc1732f59837c",
   "outputs": [
    {
     "name": "stdout",
     "output_type": "stream",
     "text": [
      "Index(['time', 'active_energy_burned', 'basal_energy_burned',\n",
      "       'env_audio_exposure', 'heart_rate', 'physical_effort'],\n",
      "      dtype='object', name='type')\n",
      "Index(['time', 'active_energy_burned', 'basal_energy_burned',\n",
      "       'env_audio_exposure', 'heart_rate', 'physical_effort'],\n",
      "      dtype='object', name='type')\n",
      "Index(['time', 'active_energy_burned', 'basal_energy_burned', 'heart_rate',\n",
      "       'physical_effort'],\n",
      "      dtype='object', name='type')\n"
     ]
    }
   ],
   "execution_count": 41
  },
  {
   "metadata": {
    "ExecuteTime": {
     "end_time": "2025-06-06T10:27:40.925867Z",
     "start_time": "2025-06-06T10:27:40.917818Z"
    }
   },
   "cell_type": "code",
   "source": "comedy_data.to_csv('../data_collection/comedy_aw.csv', index=False)",
   "id": "9273e9ff332e75c9",
   "outputs": [],
   "execution_count": 48
  },
  {
   "metadata": {
    "ExecuteTime": {
     "end_time": "2025-06-06T10:27:45.106203Z",
     "start_time": "2025-06-06T10:27:45.095180Z"
    }
   },
   "cell_type": "code",
   "source": "documentary_data.to_csv('../data_collection/documentary_aw.csv', index=False)",
   "id": "3c687ba3b14b792b",
   "outputs": [],
   "execution_count": 49
  },
  {
   "metadata": {
    "ExecuteTime": {
     "end_time": "2025-06-06T10:27:53.898031Z",
     "start_time": "2025-06-06T10:27:53.890067Z"
    }
   },
   "cell_type": "code",
   "source": "horror_data.to_csv('../data_collection/horror_aw.csv', index=False)",
   "id": "a08e51362c16fd95",
   "outputs": [],
   "execution_count": 51
  },
  {
   "metadata": {},
   "cell_type": "code",
   "outputs": [],
   "execution_count": null,
   "source": "",
   "id": "70ba8dbd85733c01"
  }
 ],
 "metadata": {
  "kernelspec": {
   "display_name": "Python 3",
   "language": "python",
   "name": "python3"
  },
  "language_info": {
   "codemirror_mode": {
    "name": "ipython",
    "version": 2
   },
   "file_extension": ".py",
   "mimetype": "text/x-python",
   "name": "python",
   "nbconvert_exporter": "python",
   "pygments_lexer": "ipython2",
   "version": "2.7.6"
  }
 },
 "nbformat": 4,
 "nbformat_minor": 5
}
