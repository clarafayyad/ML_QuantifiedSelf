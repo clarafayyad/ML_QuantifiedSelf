{
 "cells": [
  {
   "cell_type": "code",
   "id": "initial_id",
   "metadata": {
    "collapsed": true,
    "ExecuteTime": {
     "end_time": "2025-06-07T12:20:25.665859Z",
     "start_time": "2025-06-07T12:20:25.394008Z"
    }
   },
   "source": "import pandas as pd",
   "outputs": [],
   "execution_count": 1
  },
  {
   "metadata": {
    "ExecuteTime": {
     "end_time": "2025-06-07T12:21:03.332749Z",
     "start_time": "2025-06-07T12:21:03.323874Z"
    }
   },
   "cell_type": "code",
   "source": [
    "comedy = pd.read_csv('source_data/clara/hr_comedy.csv')\n",
    "documentary = pd.read_csv('source_data/clara/hr_documentary.csv')\n",
    "horror = pd.read_csv('source_data/clara/hr_horror.csv')"
   ],
   "id": "423e7c34c6eeffe4",
   "outputs": [],
   "execution_count": 2
  },
  {
   "metadata": {
    "ExecuteTime": {
     "end_time": "2025-06-07T12:21:45.697365Z",
     "start_time": "2025-06-07T12:21:45.690241Z"
    }
   },
   "cell_type": "code",
   "source": [
    "comedy.to_csv('generated_data/clara/comedy_aw.csv', index=False)\n",
    "documentary.to_csv('generated_data/clara/documentary_aw.csv', index=False)\n",
    "horror.to_csv('generated_data/clara/horror_aw.csv', index=False)"
   ],
   "id": "92152d21537457df",
   "outputs": [],
   "execution_count": 3
  },
  {
   "metadata": {},
   "cell_type": "code",
   "outputs": [],
   "execution_count": null,
   "source": "",
   "id": "d34fa69e6194a985"
  }
 ],
 "metadata": {
  "kernelspec": {
   "display_name": "Python 3",
   "language": "python",
   "name": "python3"
  },
  "language_info": {
   "codemirror_mode": {
    "name": "ipython",
    "version": 2
   },
   "file_extension": ".py",
   "mimetype": "text/x-python",
   "name": "python",
   "nbconvert_exporter": "python",
   "pygments_lexer": "ipython2",
   "version": "2.7.6"
  }
 },
 "nbformat": 4,
 "nbformat_minor": 5
}
