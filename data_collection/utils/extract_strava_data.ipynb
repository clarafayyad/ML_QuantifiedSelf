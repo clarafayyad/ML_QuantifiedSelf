{
 "cells": [
  {
   "cell_type": "code",
   "execution_count": 1,
   "id": "initial_id",
   "metadata": {
    "ExecuteTime": {
     "end_time": "2025-06-07T12:20:25.665859Z",
     "start_time": "2025-06-07T12:20:25.394008Z"
    },
    "collapsed": true
   },
   "outputs": [],
   "source": [
    "import pandas as pd"
   ]
  },
  {
   "cell_type": "code",
   "execution_count": 36,
   "id": "423e7c34c6eeffe4",
   "metadata": {
    "ExecuteTime": {
     "end_time": "2025-06-07T12:21:03.332749Z",
     "start_time": "2025-06-07T12:21:03.323874Z"
    }
   },
   "outputs": [],
   "source": [
    "comedy = pd.read_csv('aimen/comedy_hw.csv')\n",
    "horror = pd.read_csv('aimen/horror_hw.csv')\n",
    "doc = pd.read_csv('aimen/doc_aw_extended.csv')"
   ]
  },
  {
   "cell_type": "code",
   "execution_count": 37,
   "id": "92152d21537457df",
   "metadata": {
    "ExecuteTime": {
     "end_time": "2025-06-07T12:21:45.697365Z",
     "start_time": "2025-06-07T12:21:45.690241Z"
    }
   },
   "outputs": [
    {
     "name": "stderr",
     "output_type": "stream",
     "text": [
      "C:\\Users\\aimen\\AppData\\Local\\Temp\\ipykernel_2252\\2026011386.py:2: SettingWithCopyWarning: \n",
      "A value is trying to be set on a copy of a slice from a DataFrame.\n",
      "Try using .loc[row_indexer,col_indexer] = value instead\n",
      "\n",
      "See the caveats in the documentation: https://pandas.pydata.org/pandas-docs/stable/user_guide/indexing.html#returning-a-view-versus-a-copy\n",
      "  comedy_new['timestamp'] = pd.to_datetime(comedy_new['timestamp']).dt.strftime('%Y-%m-%d %H:%M:%S')\n",
      "C:\\Users\\aimen\\AppData\\Local\\Temp\\ipykernel_2252\\2026011386.py:5: SettingWithCopyWarning: \n",
      "A value is trying to be set on a copy of a slice from a DataFrame.\n",
      "Try using .loc[row_indexer,col_indexer] = value instead\n",
      "\n",
      "See the caveats in the documentation: https://pandas.pydata.org/pandas-docs/stable/user_guide/indexing.html#returning-a-view-versus-a-copy\n",
      "  horror_new['timestamp'] = pd.to_datetime(horror_new['timestamp']).dt.strftime('%Y-%m-%d %H:%M:%S')\n",
      "C:\\Users\\aimen\\AppData\\Local\\Temp\\ipykernel_2252\\2026011386.py:8: SettingWithCopyWarning: \n",
      "A value is trying to be set on a copy of a slice from a DataFrame.\n",
      "Try using .loc[row_indexer,col_indexer] = value instead\n",
      "\n",
      "See the caveats in the documentation: https://pandas.pydata.org/pandas-docs/stable/user_guide/indexing.html#returning-a-view-versus-a-copy\n",
      "  doc_new['timestamp'] = pd.to_datetime(doc_new['timestamp']).dt.strftime('%Y-%m-%d %H:%M:%S')\n"
     ]
    }
   ],
   "source": [
    "comedy_new = comedy[[\"timestamp\", \"heart_rate\"]]\n",
    "comedy_new['timestamp'] = pd.to_datetime(comedy_new['timestamp']).dt.strftime('%Y-%m-%d %H:%M:%S')\n",
    "\n",
    "horror_new = horror[[\"timestamp\", \"heart_rate\"]]\n",
    "horror_new['timestamp'] = pd.to_datetime(horror_new['timestamp']).dt.strftime('%Y-%m-%d %H:%M:%S')\n",
    "\n",
    "doc_new = doc[[\"timestamp\", \"heart_rate\"]]\n",
    "doc_new['timestamp'] = pd.to_datetime(doc_new['timestamp']).dt.strftime('%Y-%m-%d %H:%M:%S')"
   ]
  },
  {
   "cell_type": "code",
   "execution_count": 39,
   "id": "7a839825",
   "metadata": {},
   "outputs": [],
   "source": [
    "comedy_new.to_csv('aimen/comedy_aw.csv', index=False)\n",
    "horror_new.to_csv('aimen/horror_aw.csv', index=False)\n",
    "doc_new.to_csv('aimen/documentary_aw.csv', index=False)"
   ]
  }
 ],
 "metadata": {
  "kernelspec": {
   "display_name": "Python 3",
   "language": "python",
   "name": "python3"
  },
  "language_info": {
   "codemirror_mode": {
    "name": "ipython",
    "version": 2
   },
   "file_extension": ".py",
   "mimetype": "text/x-python",
   "name": "python",
   "nbconvert_exporter": "python",
   "pygments_lexer": "ipython2",
   "version": "2.7.6"
  }
 },
 "nbformat": 4,
 "nbformat_minor": 5
}
