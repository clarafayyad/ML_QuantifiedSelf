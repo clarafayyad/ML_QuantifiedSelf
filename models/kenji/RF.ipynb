{
 "cells": [
  {
   "cell_type": "code",
   "execution_count": null,
   "id": "f08c083e",
   "metadata": {},
   "outputs": [
    {
     "name": "stderr",
     "output_type": "stream",
     "text": [
      "c:\\Users\\kenji\\OneDrive\\Documenten\\ML_QuantifiedSelf\\.venv\\Lib\\site-packages\\tqdm\\auto.py:21: TqdmWarning: IProgress not found. Please update jupyter and ipywidgets. See https://ipywidgets.readthedocs.io/en/stable/user_install.html\n",
      "  from .autonotebook import tqdm as notebook_tqdm\n",
      "c:\\Users\\kenji\\OneDrive\\Documenten\\ML_QuantifiedSelf\\models\\kenji\\model_pipeline.py:47: PerformanceWarning: DataFrame is highly fragmented.  This is usually the result of calling `frame.insert` many times, which has poor performance.  Consider joining all columns at once using pd.concat(axis=1) instead. To get a de-fragmented frame, use `newframe = frame.copy()`\n",
      "  df['genre_encoded'] = genre_le.fit_transform(df['genre'])\n",
      "c:\\Users\\kenji\\OneDrive\\Documenten\\ML_QuantifiedSelf\\models\\kenji\\model_pipeline.py:112: ExperimentalWarning: OptunaSearchCV is experimental (supported from v0.17.0). The interface can change in the future.\n",
      "  optuna_cv = OptunaSearchCV(\n",
      "[I 2025-06-14 18:10:55,498] A new study created in memory with name: no-name-39081673-3f46-4d3d-87de-eeb36aa3c655\n"
     ]
    },
    {
     "name": "stdout",
     "output_type": "stream",
     "text": [
      "\n",
      "--- Testing on aimen ---\n"
     ]
    },
    {
     "name": "stderr",
     "output_type": "stream",
     "text": [
      "[I 2025-06-14 18:15:32,770] Trial 0 finished with value: 1.0 and parameters: {'clf__n_estimators': 900, 'clf__max_depth': 10, 'clf__min_samples_split': 8}. Best is trial 0 with value: 1.0.\n"
     ]
    },
    {
     "name": "stdout",
     "output_type": "stream",
     "text": [
      "Optuna best params: {'clf__n_estimators': 900, 'clf__max_depth': 10, 'clf__min_samples_split': 8}\n",
      "              precision    recall  f1-score   support\n",
      "\n",
      "      comedy       1.00      1.00      1.00       600\n",
      " documentary       1.00      1.00      1.00       467\n",
      "      horror       1.00      1.00      1.00      1130\n",
      "\n",
      "    accuracy                           1.00      2197\n",
      "   macro avg       1.00      1.00      1.00      2197\n",
      "weighted avg       1.00      1.00      1.00      2197\n",
      "\n",
      "Validation performance:\n",
      "              precision    recall  f1-score   support\n",
      "\n",
      "      comedy       1.00      1.00      1.00        67\n",
      " documentary       1.00      1.00      1.00        52\n",
      "      horror       1.00      1.00      1.00       126\n",
      "\n",
      "    accuracy                           1.00       245\n",
      "   macro avg       1.00      1.00      1.00       245\n",
      "weighted avg       1.00      1.00      1.00       245\n",
      "\n",
      "\n",
      "=== Avg Macro F1: 1.000 ===\n",
      "Aimen test macro-F1: 1.0\n"
     ]
    }
   ],
   "source": [
    "from model_pipeline import model_pipeline\n",
    "from sklearn.ensemble import RandomForestClassifier\n",
    "import pandas as pd\n",
    "\n",
    "# Load your data\n",
    "df = pd.read_csv(\"../../feature_engineering/data_with_new_features.csv\")\n",
    "\n",
    "# Run the pipeline, prefixing every RF hyperparameter with 'clf__'\n",
    "results = model_pipeline(\n",
    "    df,\n",
    "    model_factory=lambda **p: RandomForestClassifier(\n",
    "        random_state=42,\n",
    "        class_weight='balanced',\n",
    "        **p\n",
    "    ),\n",
    "    normalize='global',\n",
    "    test_val_split=0.1,\n",
    "    param_distributions={\n",
    "        'clf__n_estimators': (5, 100, 5),        # IntDistribution\n",
    "        'clf__max_depth':    [None] + list(range(5, 51, 5)),\n",
    "        'clf__min_samples_split': (2, 20, 1)        # IntDistribution\n",
    "    },\n",
    "    n_trials=1,\n",
    "    search_cv=3,\n",
    "    test_participant='aimen'\n",
    ")\n",
    "\n",
    "# Now results['reports']['aimen'] contains your test + validation metrics,\n",
    "# and results['feature_importances']['aimen'] the importances from the final 'clf'.\n",
    "print(\"Aimen test macro-F1:\", results['reports']['aimen']['f1_macro'])"
   ]
  }
 ],
 "metadata": {
  "kernelspec": {
   "display_name": ".venv",
   "language": "python",
   "name": "python3"
  },
  "language_info": {
   "codemirror_mode": {
    "name": "ipython",
    "version": 3
   },
   "file_extension": ".py",
   "mimetype": "text/x-python",
   "name": "python",
   "nbconvert_exporter": "python",
   "pygments_lexer": "ipython3",
   "version": "3.12.4"
  }
 },
 "nbformat": 4,
 "nbformat_minor": 5
}
