{
 "cells": [
  {
   "cell_type": "code",
   "execution_count": 1,
   "id": "c02841eb",
   "metadata": {},
   "outputs": [
    {
     "name": "stdout",
     "output_type": "stream",
     "text": [
      "Top 10 |corr| with genre:\n",
      "pupil_iris_ratio_fft_band_0_0.1        0.770793\n",
      "pupil_diameter_mm_fft_band_0_0.1       0.770793\n",
      "pupil_iris_ratio_fft_max_amp           0.713226\n",
      "pupil_diameter_mm_fft_max_amp          0.713226\n",
      "pupil_iris_ratio_fft_band_0.1_0.25     0.540690\n",
      "pupil_diameter_mm_fft_band_0.1_0.25    0.540690\n",
      "heart_rate_high_normal                 0.521763\n",
      "pupil_diameter_mm_fft_entropy          0.518583\n",
      "pupil_iris_ratio_fft_entropy           0.518583\n",
      "heart_rate_normal_high                 0.507076\n",
      "Name: genre_encoded, dtype: float64\n",
      "\n",
      "Suspect (|corr|>=0.99): []\n"
     ]
    }
   ],
   "source": [
    "import pandas as pd\n",
    "from sklearn.preprocessing import LabelEncoder\n",
    "\n",
    "# 1) load & encode your target\n",
    "df = pd.read_csv(\"../../feature_engineering/data_with_new_features_v3.csv\")\n",
    "le = LabelEncoder()\n",
    "df[\"genre_encoded\"] = le.fit_transform(df[\"genre\"])\n",
    "\n",
    "# 2) pick out your numeric features\n",
    "non_num = [\"participant\",\"timestamp\",\"genre\"]\n",
    "numeric_feats = [c for c in df.columns\n",
    "                 if pd.api.types.is_numeric_dtype(df[c])\n",
    "                    and c not in non_num + [\"genre_encoded\"]]\n",
    "\n",
    "# 3) compute Pearson correlation with the target\n",
    "corr_with_target = df[numeric_feats + [\"genre_encoded\"]].corr()[\"genre_encoded\"] \\\n",
    "                     .drop(\"genre_encoded\") \\\n",
    "                     .abs() \\\n",
    "                     .sort_values(ascending=False)\n",
    "\n",
    "print(\"Top 10 |corr| with genre:\")\n",
    "print(corr_with_target.head(10))\n",
    "\n",
    "# 4) if any of these are exactly 1.0 (or extremely high, say >0.9), you’ve found leakage.\n",
    "leaky = corr_with_target[corr_with_target >= 0.99].index.tolist()\n",
    "print(\"\\nSuspect (|corr|>=0.99):\", leaky)\n"
   ]
  }
 ],
 "metadata": {
  "kernelspec": {
   "display_name": ".venv",
   "language": "python",
   "name": "python3"
  },
  "language_info": {
   "codemirror_mode": {
    "name": "ipython",
    "version": 3
   },
   "file_extension": ".py",
   "mimetype": "text/x-python",
   "name": "python",
   "nbconvert_exporter": "python",
   "pygments_lexer": "ipython3",
   "version": "3.12.4"
  }
 },
 "nbformat": 4,
 "nbformat_minor": 5
}
